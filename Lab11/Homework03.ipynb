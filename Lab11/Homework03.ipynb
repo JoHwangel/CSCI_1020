{
  "nbformat": 4,
  "nbformat_minor": 0,
  "metadata": {
    "colab": {
      "provenance": []
    },
    "kernelspec": {
      "name": "python3",
      "display_name": "Python 3"
    },
    "language_info": {
      "name": "python"
    }
  },
  "cells": [
    {
      "cell_type": "code",
      "execution_count": null,
      "metadata": {
        "id": "kqv_CAwhSn20"
      },
      "outputs": [],
      "source": [
        "#Joel Jihwan Hwang "
      ]
    },
    {
      "cell_type": "code",
      "source": [
        "def alignment_table(sequence1, sequence2):\n",
        "    opt = []\n",
        "    for i in range(len(sequence1)+1):\n",
        "      row = []\n",
        "      for j in range(len(sequence2)+1):\n",
        "        row.append(0)\n",
        "      opt.append(row)\n",
        "    return opt"
      ],
      "metadata": {
        "id": "wVPcwCw-NE7C"
      },
      "execution_count": null,
      "outputs": []
    },
    {
      "cell_type": "code",
      "source": [
        "alignment_table(\"AATTATATT\", \"ACGTTAT\")"
      ],
      "metadata": {
        "colab": {
          "base_uri": "https://localhost:8080/"
        },
        "id": "to8dveyJNHPf",
        "outputId": "801ea310-b2e9-41f7-d561-f9cabf9d56f8"
      },
      "execution_count": null,
      "outputs": [
        {
          "output_type": "execute_result",
          "data": {
            "text/plain": [
              "[[0, 0, 0, 0, 0, 0, 0, 0],\n",
              " [0, 0, 0, 0, 0, 0, 0, 0],\n",
              " [0, 0, 0, 0, 0, 0, 0, 0],\n",
              " [0, 0, 0, 0, 0, 0, 0, 0],\n",
              " [0, 0, 0, 0, 0, 0, 0, 0],\n",
              " [0, 0, 0, 0, 0, 0, 0, 0],\n",
              " [0, 0, 0, 0, 0, 0, 0, 0],\n",
              " [0, 0, 0, 0, 0, 0, 0, 0],\n",
              " [0, 0, 0, 0, 0, 0, 0, 0],\n",
              " [0, 0, 0, 0, 0, 0, 0, 0]]"
            ]
          },
          "metadata": {},
          "execution_count": 79
        }
      ]
    },
    {
      "cell_type": "code",
      "source": [
        "def alignment_table(sequence1, sequence2):\n",
        "    opt = []\n",
        "    for i in range(len(sequence1)+1):\n",
        "      row = []\n",
        "      for j in range(len(sequence2)+1):\n",
        "        row.append(0)\n",
        "      opt.append(row)\n",
        "    for rowid in range(0, len(opt)):\n",
        "        opt[rowid][0] = -1* rowid\n",
        "    for colid in range(0, len(opt[0])):\n",
        "        opt[0][colid] = -1* colid  \n",
        "    return opt"
      ],
      "metadata": {
        "id": "sTYhnx8rXgCb"
      },
      "execution_count": null,
      "outputs": []
    },
    {
      "cell_type": "code",
      "source": [
        "alignment_table(\"AATTATATT\", \"ACGTTAT\")"
      ],
      "metadata": {
        "colab": {
          "base_uri": "https://localhost:8080/"
        },
        "id": "tceX9iUgXhkA",
        "outputId": "18e4d640-19e8-454a-cc80-f536d4e39695"
      },
      "execution_count": null,
      "outputs": [
        {
          "output_type": "execute_result",
          "data": {
            "text/plain": [
              "[[0, -1, -2, -3, -4, -5, -6, -7],\n",
              " [-1, 0, 0, 0, 0, 0, 0, 0],\n",
              " [-2, 0, 0, 0, 0, 0, 0, 0],\n",
              " [-3, 0, 0, 0, 0, 0, 0, 0],\n",
              " [-4, 0, 0, 0, 0, 0, 0, 0],\n",
              " [-5, 0, 0, 0, 0, 0, 0, 0],\n",
              " [-6, 0, 0, 0, 0, 0, 0, 0],\n",
              " [-7, 0, 0, 0, 0, 0, 0, 0],\n",
              " [-8, 0, 0, 0, 0, 0, 0, 0],\n",
              " [-9, 0, 0, 0, 0, 0, 0, 0]]"
            ]
          },
          "metadata": {},
          "execution_count": 81
        }
      ]
    },
    {
      "cell_type": "code",
      "source": [
        "def buildTable(X, Y, match=1, mismatch=-1, gap=-1):\n",
        "  print(\"Sequence 1:\", X)\n",
        "  print(\"Sequence 2:\", Y)\n",
        "  opt = alignment_table(X, Y)\n",
        "  for j in range(1, len(opt)):\n",
        "    for k in range(1, len(opt[0])):\n",
        "      if j == 0: \n",
        "        opt[j][k] = k * gap \n",
        "      elif k == 0: \n",
        "        opt[j][k] = j * gap \n",
        "      else: \n",
        "        # score1: horizontally\n",
        "        score1 = gap + opt[j-1][k]\n",
        "        # score2: vertically \n",
        "        score2 = gap + opt[j][k-1]\n",
        "        # score3: if match, calculate score, else: calculate score \n",
        "        if X[j-1] == Y[k-1]:\n",
        "          score3 = match + opt[j-1][k-1]\n",
        "        else:  \n",
        "          score3 = mismatch + opt[j-1][k-1]\n",
        "        max_option = max([score1, score2, score3])\n",
        "        opt[j][k] = max_option\n",
        "  return opt\n",
        "     \n"
      ],
      "metadata": {
        "id": "krTviZHTSqOw"
      },
      "execution_count": null,
      "outputs": []
    },
    {
      "cell_type": "code",
      "source": [
        "buildTable(\"TTGCT\", \"CTTCCT\", match=1, mismatch=-1, gap=-1)"
      ],
      "metadata": {
        "colab": {
          "base_uri": "https://localhost:8080/"
        },
        "id": "BqGhX2AJTQ_4",
        "outputId": "9d61a6c2-259b-47ad-c361-03c56d026e2e"
      },
      "execution_count": null,
      "outputs": [
        {
          "output_type": "stream",
          "name": "stdout",
          "text": [
            "Sequence 1: TTGCT\n",
            "Sequence 2: CTTCCT\n"
          ]
        },
        {
          "output_type": "execute_result",
          "data": {
            "text/plain": [
              "[[0, -1, -2, -3, -4, -5, -6],\n",
              " [-1, -1, 0, -1, -2, -3, -4],\n",
              " [-2, -2, 0, 1, 0, -1, -2],\n",
              " [-3, -3, -1, 0, 0, -1, -2],\n",
              " [-4, -2, -2, -1, 1, 1, 0],\n",
              " [-5, -3, -1, -1, 0, 0, 2]]"
            ]
          },
          "metadata": {},
          "execution_count": 84
        }
      ]
    },
    {
      "cell_type": "code",
      "source": [
        "# You can directly copy the following codes to Google Colab for use\n",
        "def TraceBack(X, Y, table, match=1, mismatch=-1, gap=-1):\n",
        "    first = ''        # alignment for X\n",
        "    second = ''       # alignment for Y\n",
        "    glue = ''         # line showing matches/mismatches\n",
        "    # start reconstruction at bottom-right of table\n",
        "    j = len(X)\n",
        "    k = len(Y)\n",
        "\n",
        "    while j>0 or k>0:\n",
        "        #### \n",
        "        ##   This block checks if the best score at cell j,k is derived from the top-left cell with diagonal direction\n",
        "        ###########################################################################################################\n",
        "        if j>0 and k>0 and ((X[j-1] == Y[k-1] and table[j][k] == table[j-1][k-1] + match) or (X[j-1] != Y[k-1] and table[j][k] == table[j-1][k-1] + mismatch)):\n",
        "            # option1 above; match X[j-1] with Y[k-1]\n",
        "            first =  X[j-1] + first\n",
        "            second = Y[k-1] + second\n",
        "            if X[j-1] == Y[k-1] and table[j][k] == table[j-1][k-1] + match:\n",
        "              glue = '|' + glue   # designate match\n",
        "            elif X[j-1] != Y[k-1] and table[j][k] == table[j-1][k-1] + mismatch:\n",
        "              glue = '.' + glue   # designate mismatch\n",
        "            j = j-1\n",
        "            k = k-1\n",
        "        \n",
        "        #### \n",
        "        ##   This block checks if the best score at cell j,k is derived from the top cell with vertical direction\n",
        "        ###########################################################################################################\n",
        "        elif j > 0 and table[j][k] == table[j-1][k] + gap:\n",
        "            # option1 above; match X[j-1] with a gap in Y\n",
        "            first  = X[j-1] + first\n",
        "            second = '-' + second\n",
        "            glue   = ' ' + glue\n",
        "            j = j-1\n",
        "\n",
        "        ####\n",
        "        ##   This block checks if the best score at cell j,k is derived from the left cell with horizontal direction\n",
        "        ###########################################################################################################\n",
        "        elif k > 0 and table[j][k] == table[j][k-1] + gap:\n",
        "            # option2 above; match gap in X with Y[k-1]\n",
        "            first  = '-'  + first\n",
        "            second = Y[k-1] + second\n",
        "            glue   = ' '  + glue\n",
        "            k = k-1\n",
        "\n",
        "    print(\"The best alignment is:\")\n",
        "    print(first)\n",
        "    print(glue)\n",
        "    print(second)\n",
        "    print(\"The score of optimal alignment is: \",table[len(X)][len(Y)])\n",
        "    return first,glue,second"
      ],
      "metadata": {
        "id": "bwVP66QlzUoJ"
      },
      "execution_count": null,
      "outputs": []
    },
    {
      "cell_type": "code",
      "source": [
        "table = buildTable('CACCT','AACT',match=2, mismatch=-1, gap=-1)\n",
        "table\n"
      ],
      "metadata": {
        "colab": {
          "base_uri": "https://localhost:8080/"
        },
        "id": "g2R9ma5xNsov",
        "outputId": "3e4332d0-ec97-46b0-ae03-533b02d4a2a6"
      },
      "execution_count": null,
      "outputs": [
        {
          "output_type": "stream",
          "name": "stdout",
          "text": [
            "Sequence 1: CACCT\n",
            "Sequence 2: AACT\n"
          ]
        },
        {
          "output_type": "execute_result",
          "data": {
            "text/plain": [
              "[[0, -1, -2, -3, -4],\n",
              " [-1, -1, -2, 0, -1],\n",
              " [-2, 1, 1, 0, -1],\n",
              " [-3, 0, 0, 3, 2],\n",
              " [-4, -1, -1, 2, 2],\n",
              " [-5, -2, -2, 1, 4]]"
            ]
          },
          "metadata": {},
          "execution_count": 86
        }
      ]
    },
    {
      "cell_type": "code",
      "source": [
        "TraceBack('CACCT','AACT', table, match=2, mismatch=-1, gap=-1)"
      ],
      "metadata": {
        "colab": {
          "base_uri": "https://localhost:8080/"
        },
        "id": "Q5OyAhCgzwFa",
        "outputId": "4a0a5b47-7df1-40a5-edb0-6271859a3fa4"
      },
      "execution_count": null,
      "outputs": [
        {
          "output_type": "stream",
          "name": "stdout",
          "text": [
            "The best alignment is:\n",
            "CACCT\n",
            " |.||\n",
            "-AACT\n",
            "The score of optimal alignment is:  4\n"
          ]
        },
        {
          "output_type": "execute_result",
          "data": {
            "text/plain": [
              "('CACCT', ' |.||', '-AACT')"
            ]
          },
          "metadata": {},
          "execution_count": 87
        }
      ]
    },
    {
      "cell_type": "code",
      "source": [
        "#Task 5: \n",
        "opt2 = buildTable('TTGCT','CTTCCT',match=1, mismatch=-1, gap=-1)\n",
        "opt2"
      ],
      "metadata": {
        "colab": {
          "base_uri": "https://localhost:8080/"
        },
        "id": "nAEBSGrbJSd8",
        "outputId": "a3d63e06-fc32-41b8-d5e3-9e98864059f0"
      },
      "execution_count": null,
      "outputs": [
        {
          "output_type": "stream",
          "name": "stdout",
          "text": [
            "Sequence 1: TTGCT\n",
            "Sequence 2: CTTCCT\n"
          ]
        },
        {
          "output_type": "execute_result",
          "data": {
            "text/plain": [
              "[[0, -1, -2, -3, -4, -5, -6],\n",
              " [-1, -1, 0, -1, -2, -3, -4],\n",
              " [-2, -2, 0, 1, 0, -1, -2],\n",
              " [-3, -3, -1, 0, 0, -1, -2],\n",
              " [-4, -2, -2, -1, 1, 1, 0],\n",
              " [-5, -3, -1, -1, 0, 0, 2]]"
            ]
          },
          "metadata": {},
          "execution_count": 88
        }
      ]
    },
    {
      "cell_type": "code",
      "source": [
        "TraceBack('TTGCT','CTTCCT', opt2, match=1, mismatch=-1, gap=-1)"
      ],
      "metadata": {
        "colab": {
          "base_uri": "https://localhost:8080/"
        },
        "id": "mbfJqb4_OUbr",
        "outputId": "3b310f6e-dec9-494c-96b4-7d18757d41d7"
      },
      "execution_count": null,
      "outputs": [
        {
          "output_type": "stream",
          "name": "stdout",
          "text": [
            "The best alignment is:\n",
            "-TTGCT\n",
            " ||.||\n",
            "CTTCCT\n",
            "The score of optimal alignment is:  2\n"
          ]
        },
        {
          "output_type": "execute_result",
          "data": {
            "text/plain": [
              "('-TTGCT', ' ||.||', 'CTTCCT')"
            ]
          },
          "metadata": {},
          "execution_count": 89
        }
      ]
    },
    {
      "cell_type": "code",
      "source": [
        "#Task 6: \n",
        "buildTable('TATCCC','TAGACCC',match=1, mismatch=-1, gap=-1)"
      ],
      "metadata": {
        "colab": {
          "base_uri": "https://localhost:8080/"
        },
        "id": "JT3VZey3OJjI",
        "outputId": "ba3d6532-ef5a-40cc-bd4a-db0768452ef9"
      },
      "execution_count": null,
      "outputs": [
        {
          "output_type": "stream",
          "name": "stdout",
          "text": [
            "Sequence 1: TATCCC\n",
            "Sequence 2: TAGACCC\n"
          ]
        },
        {
          "output_type": "execute_result",
          "data": {
            "text/plain": [
              "[[0, -1, -2, -3, -4, -5, -6, -7],\n",
              " [-1, 1, 0, -1, -2, -3, -4, -5],\n",
              " [-2, 0, 2, 1, 0, -1, -2, -3],\n",
              " [-3, -1, 1, 1, 0, -1, -2, -3],\n",
              " [-4, -2, 0, 0, 0, 1, 0, -1],\n",
              " [-5, -3, -1, -1, -1, 1, 2, 1],\n",
              " [-6, -4, -2, -2, -2, 0, 2, 3]]"
            ]
          },
          "metadata": {},
          "execution_count": 94
        }
      ]
    },
    {
      "cell_type": "code",
      "source": [
        "table = buildTable('TATCCC','TAGACCC',match=2, mismatch=-1, gap=-1)\n",
        "TraceBack('TATCCC','TAGACCC', table, match=2, mismatch=-1, gap=-1)"
      ],
      "metadata": {
        "colab": {
          "base_uri": "https://localhost:8080/"
        },
        "id": "xaV3y_U2OXjN",
        "outputId": "6a328207-147c-42bc-dbf8-de1939046721"
      },
      "execution_count": null,
      "outputs": [
        {
          "output_type": "stream",
          "name": "stdout",
          "text": [
            "Sequence 1: TATCCC\n",
            "Sequence 2: TAGACCC\n",
            "The best alignment is:\n",
            "TA-TCCC\n",
            "|| .|||\n",
            "TAGACCC\n",
            "The score of optimal alignment is:  8\n"
          ]
        },
        {
          "output_type": "execute_result",
          "data": {
            "text/plain": [
              "('TA-TCCC', '|| .|||', 'TAGACCC')"
            ]
          },
          "metadata": {},
          "execution_count": 95
        }
      ]
    },
    {
      "cell_type": "code",
      "source": [],
      "metadata": {
        "id": "gSx-DCrrOZu2"
      },
      "execution_count": null,
      "outputs": []
    }
  ]
}